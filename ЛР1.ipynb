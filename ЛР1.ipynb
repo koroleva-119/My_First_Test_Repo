{
  "nbformat": 4,
  "nbformat_minor": 0,
  "metadata": {
    "colab": {
      "provenance": [],
      "authorship_tag": "ABX9TyOfo4KVQG1JZt/WrpxEyGAK"
    },
    "kernelspec": {
      "name": "python3",
      "display_name": "Python 3"
    },
    "language_info": {
      "name": "python"
    }
  },
  "cells": [
    {
      "cell_type": "markdown",
      "source": [
        "# Заголовок\n",
        "\n",
        "Маркированный список\n",
        "\n",
        "*   Пункт;\n",
        "*   Еще пункт;\n",
        "*   И еще пункт;\n",
        "*   И еще пункт;\n",
        "*   И снова пункт.\n",
        " \n",
        "\n",
        "![](https://sun9-42.userapi.com/impg/JcBy3nv_1PzLpiboDYFKsegQapcdmfqnnV2hDw/71xun62RrT4.jpg?size=472x354&quality=95&sign=ccbd20bf828917da9e7965f2f7ea138a&type=album)\n",
        "\n",
        "\n",
        "|Столбец 1|Столбец 2|Столбец 3|\n",
        "|-|--------|---|\n",
        "|запись № 1|запись № 2|запись № 3|\n",
        "|пусто| |Слева нет записи|\n",
        "\n",
        "[Ссылка на расписание восхода и заката в Петрозаводске](https://world-weather.ru/pogoda/russia/petrozavodsk/sunrise/)"
      ],
      "metadata": {
        "id": "SachLnYk2TU3"
      }
    }
  ]
}